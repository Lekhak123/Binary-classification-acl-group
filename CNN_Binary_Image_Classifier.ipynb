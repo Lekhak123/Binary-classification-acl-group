{
  "cells": [
    {
      "cell_type": "code",
      "source": [
        "import os\n",
        "import pandas as pd\n",
        "import random\n",
        "import requests"
      ],
      "metadata": {
        "id": "Zo1ZGQ5r_rVU"
      },
      "execution_count": 3,
      "outputs": []
    },
    {
      "cell_type": "code",
      "source": [
        "# Define the paths to your CSV files\n",
        "good_csv_path = 'goodOutput.csv'\n",
        "bad_csv_path = 'badOutput.csv'\n",
        "\n",
        "# Define the output directory structure\n",
        "output_base_dir = 'output'\n",
        "output_dirs = ['test/good', 'test/bad', 'train/good', 'train/bad']\n",
        "\n",
        "# Create the output directories\n",
        "for output_dir in output_dirs:\n",
        "    os.makedirs(os.path.join(output_base_dir, output_dir), exist_ok=True)\n",
        "\n",
        "# Load the CSV files into pandas dataframes\n",
        "good_df = pd.read_csv(good_csv_path)\n",
        "bad_df = pd.read_csv(bad_csv_path)\n",
        "\n",
        "# Define the number of random rows to select for testing\n",
        "num_test_samples = 50\n",
        "\n",
        "# Randomly select rows for testing and training from both good and bad dataframes\n",
        "good_test_samples = random.sample(good_df.index.tolist(), num_test_samples)\n",
        "bad_test_samples = random.sample(bad_df.index.tolist(), num_test_samples)\n",
        "\n",
        "# Download and save the test set images\n",
        "for index in good_test_samples:\n",
        "    url = good_df.at[index, 'Thumbnail']\n",
        "    response = requests.get(url)\n",
        "    if response.status_code == 200:\n",
        "        with open(os.path.join(output_base_dir, 'test/good', f'good_test_{index}.jpg'), 'wb') as f:\n",
        "            f.write(response.content)\n",
        "\n",
        "for index in bad_test_samples:\n",
        "    url = bad_df.at[index, 'Thumbnail']\n",
        "    response = requests.get(url)\n",
        "    if response.status_code == 200:\n",
        "        with open(os.path.join(output_base_dir, 'test/bad', f'bad_test_{index}.jpg'), 'wb') as f:\n",
        "            f.write(response.content)\n",
        "\n",
        "# Create lists of rows for the training set\n",
        "good_train_samples = [index for index in good_df.index if index not in good_test_samples]\n",
        "bad_train_samples = [index for index in bad_df.index if index not in bad_test_samples]\n",
        "\n",
        "# Download and save the training set images\n",
        "for index in good_train_samples:\n",
        "    url = good_df.at[index, 'Thumbnail']\n",
        "    response = requests.get(url)\n",
        "    if response.status_code == 200:\n",
        "        with open(os.path.join(output_base_dir, 'train/good', f'good_train_{index}.jpg'), 'wb') as f:\n",
        "            f.write(response.content)\n",
        "\n",
        "for index in bad_train_samples:\n",
        "    url = bad_df.at[index, 'Thumbnail']\n",
        "    response = requests.get(url)\n",
        "    if response.status_code == 200:\n",
        "        with open(os.path.join(output_base_dir, 'train/bad', f'bad_train_{index}.jpg'), 'wb') as f:\n",
        "            f.write(response.content)"
      ],
      "metadata": {
        "id": "IJsXfceUAtsC"
      },
      "execution_count": 4,
      "outputs": []
    },
    {
      "cell_type": "code",
      "execution_count": 5,
      "metadata": {
        "id": "mu3VdQmo_l9C"
      },
      "outputs": [],
      "source": [
        "import tensorflow as tf\n",
        "tf.get_logger().setLevel('ERROR')\n",
        "from tensorflow.keras.preprocessing.image import ImageDataGenerator"
      ]
    },
    {
      "cell_type": "markdown",
      "metadata": {
        "id": "oJ-pOCmy_l9C"
      },
      "source": [
        "We shall use the ImageDataGenerator class to feed in the training and validation data to the model. This class can also be used to generate augmented data.\n",
        "\n",
        "To know more about ImageDataGenerator class, visit https://keras.io/preprocessing/image/#imagedatagenerator-class"
      ]
    },
    {
      "cell_type": "code",
      "execution_count": 6,
      "metadata": {
        "id": "PhKp1Huu_l9D",
        "outputId": "839805e6-a660-41ad-c07a-b7997499c041",
        "colab": {
          "base_uri": "https://localhost:8080/"
        }
      },
      "outputs": [
        {
          "output_type": "stream",
          "name": "stdout",
          "text": [
            "Found 1151 images belonging to 2 classes.\n",
            "Found 100 images belonging to 2 classes.\n"
          ]
        }
      ],
      "source": [
        "train_datagenerator = ImageDataGenerator(rescale=1./255)\n",
        "test_datagenerator = ImageDataGenerator(rescale=1./255)\n",
        "\n",
        "train_datagenerator = train_datagenerator.flow_from_directory(\n",
        "    'output/train',\n",
        "    target_size=(128,128),\n",
        "    batch_size=40,\n",
        "    class_mode='binary')\n",
        "\n",
        "test_datagenerator = test_datagenerator.flow_from_directory(\n",
        "    'output/test',\n",
        "    target_size=(128,128),\n",
        "    batch_size=10,\n",
        "    class_mode='binary')"
      ]
    },
    {
      "cell_type": "markdown",
      "metadata": {
        "id": "AhxT6d6S_l9E"
      },
      "source": [
        "Our model will have 3 Convolution2D layers. You can increse or decrease as per your needs."
      ]
    },
    {
      "cell_type": "code",
      "execution_count": 7,
      "metadata": {
        "id": "VYnnAqkR_l9E"
      },
      "outputs": [],
      "source": [
        "model = tf.keras.models.Sequential([\n",
        "    tf.keras.layers.Conv2D(32, (3,3),padding='same', activation='relu', input_shape=(128,128,3)),\n",
        "    tf.keras.layers.MaxPooling2D((2,2),2),\n",
        "\n",
        "    tf.keras.layers.Conv2D(64, (3,3), padding='same', activation='relu'),\n",
        "    tf.keras.layers.MaxPooling2D((2,2),2),\n",
        "\n",
        "    tf.keras.layers.Conv2D(128, (3,3), padding='same', activation='relu'),\n",
        "    tf.keras.layers.MaxPooling2D((2,2),2),\n",
        "\n",
        "    tf.keras.layers.Flatten(),\n",
        "    tf.keras.layers.Dense(512, activation='relu'),\n",
        "\n",
        "    tf.keras.layers.Dense(1, activation='sigmoid')\n",
        "])"
      ]
    },
    {
      "cell_type": "code",
      "execution_count": 8,
      "metadata": {
        "id": "9fW8HO8X_l9E",
        "outputId": "a5ba97b6-9fcc-4e2a-aaac-7c909b8b5617",
        "colab": {
          "base_uri": "https://localhost:8080/"
        }
      },
      "outputs": [
        {
          "output_type": "stream",
          "name": "stdout",
          "text": [
            "Model: \"sequential\"\n",
            "_________________________________________________________________\n",
            " Layer (type)                Output Shape              Param #   \n",
            "=================================================================\n",
            " conv2d (Conv2D)             (None, 128, 128, 32)      896       \n",
            "                                                                 \n",
            " max_pooling2d (MaxPooling2  (None, 64, 64, 32)        0         \n",
            " D)                                                              \n",
            "                                                                 \n",
            " conv2d_1 (Conv2D)           (None, 64, 64, 64)        18496     \n",
            "                                                                 \n",
            " max_pooling2d_1 (MaxPoolin  (None, 32, 32, 64)        0         \n",
            " g2D)                                                            \n",
            "                                                                 \n",
            " conv2d_2 (Conv2D)           (None, 32, 32, 128)       73856     \n",
            "                                                                 \n",
            " max_pooling2d_2 (MaxPoolin  (None, 16, 16, 128)       0         \n",
            " g2D)                                                            \n",
            "                                                                 \n",
            " flatten (Flatten)           (None, 32768)             0         \n",
            "                                                                 \n",
            " dense (Dense)               (None, 512)               16777728  \n",
            "                                                                 \n",
            " dense_1 (Dense)             (None, 1)                 513       \n",
            "                                                                 \n",
            "=================================================================\n",
            "Total params: 16871489 (64.36 MB)\n",
            "Trainable params: 16871489 (64.36 MB)\n",
            "Non-trainable params: 0 (0.00 Byte)\n",
            "_________________________________________________________________\n",
            "None\n"
          ]
        }
      ],
      "source": [
        "print(model.summary())"
      ]
    },
    {
      "cell_type": "markdown",
      "metadata": {
        "id": "kjd9XcDW_l9F"
      },
      "source": [
        "We shall use Adam optimizer with a learning rate of 0.001 (hyperparameter). We choose 'binary_crossentropy' loss as our model is a binary calssifier (i.e, we have only 2 classes)"
      ]
    },
    {
      "cell_type": "code",
      "execution_count": 9,
      "metadata": {
        "id": "Rri4ACSi_l9F"
      },
      "outputs": [],
      "source": [
        "model.compile(loss='binary_crossentropy',\n",
        "             optimizer=tf.keras.optimizers.Adam(0.001),\n",
        "             metrics=['accuracy'])"
      ]
    },
    {
      "cell_type": "markdown",
      "metadata": {
        "id": "oL-KzT-x_l9F"
      },
      "source": [
        "At the end of each epoch we can check if the model has reached the required accuracy and terminate the training."
      ]
    },
    {
      "cell_type": "code",
      "execution_count": 39,
      "metadata": {
        "id": "yhW9KGNF_l9F"
      },
      "outputs": [],
      "source": [
        "DESIRED_ACCURACY = 0.97\n",
        "\n",
        "class myCallback(tf.keras.callbacks.Callback):\n",
        "    def on_epoch_end(self, epochs, logs={}) :\n",
        "        if(logs.get('acc') is not None and logs.get('acc') >= DESIRED_ACCURACY) :\n",
        "            print('\\nReached 95% accuracy so cancelling training!')\n",
        "            self.model.stop_training = True\n",
        "\n",
        "callbacks = myCallback()"
      ]
    },
    {
      "cell_type": "markdown",
      "metadata": {
        "id": "BAsKhwJK_l9F"
      },
      "source": [
        "To know more about fit_generator visit https://keras.io/models/model/#fit_generator"
      ]
    },
    {
      "cell_type": "code",
      "execution_count": 40,
      "metadata": {
        "id": "syieqrlr_l9F",
        "outputId": "0e64d845-895f-47fb-eeed-b84e3467e262",
        "colab": {
          "base_uri": "https://localhost:8080/"
        }
      },
      "outputs": [
        {
          "output_type": "stream",
          "name": "stdout",
          "text": [
            "Epoch 1/100\n"
          ]
        },
        {
          "output_type": "stream",
          "name": "stderr",
          "text": [
            "<ipython-input-40-9318e07318eb>:1: UserWarning: `Model.fit_generator` is deprecated and will be removed in a future version. Please use `Model.fit`, which supports generators.\n",
            "  model.fit_generator(\n"
          ]
        },
        {
          "output_type": "stream",
          "name": "stdout",
          "text": [
            "29/29 [==============================] - 3s 67ms/step - loss: 1.0044e-05 - accuracy: 1.0000 - val_loss: 5.9560 - val_accuracy: 0.8800\n",
            "Epoch 2/100\n",
            "29/29 [==============================] - 2s 64ms/step - loss: 9.6991e-06 - accuracy: 1.0000 - val_loss: 5.9717 - val_accuracy: 0.8800\n",
            "Epoch 3/100\n",
            "29/29 [==============================] - 2s 63ms/step - loss: 9.4038e-06 - accuracy: 1.0000 - val_loss: 5.9789 - val_accuracy: 0.8800\n",
            "Epoch 4/100\n",
            "29/29 [==============================] - 2s 70ms/step - loss: 9.2056e-06 - accuracy: 1.0000 - val_loss: 5.9866 - val_accuracy: 0.8800\n",
            "Epoch 5/100\n",
            "29/29 [==============================] - 3s 97ms/step - loss: 8.8461e-06 - accuracy: 1.0000 - val_loss: 5.9995 - val_accuracy: 0.8800\n",
            "Epoch 6/100\n",
            "29/29 [==============================] - 3s 88ms/step - loss: 8.5261e-06 - accuracy: 1.0000 - val_loss: 6.0024 - val_accuracy: 0.8800\n",
            "Epoch 7/100\n",
            "29/29 [==============================] - 2s 76ms/step - loss: 8.3073e-06 - accuracy: 1.0000 - val_loss: 6.0119 - val_accuracy: 0.8800\n",
            "Epoch 8/100\n",
            "29/29 [==============================] - 2s 64ms/step - loss: 8.0246e-06 - accuracy: 1.0000 - val_loss: 6.0225 - val_accuracy: 0.8800\n",
            "Epoch 9/100\n",
            "29/29 [==============================] - 2s 86ms/step - loss: 7.8005e-06 - accuracy: 1.0000 - val_loss: 6.0278 - val_accuracy: 0.8800\n",
            "Epoch 10/100\n",
            "29/29 [==============================] - 2s 65ms/step - loss: 7.6364e-06 - accuracy: 1.0000 - val_loss: 6.0302 - val_accuracy: 0.8800\n",
            "Epoch 11/100\n",
            "29/29 [==============================] - 2s 70ms/step - loss: 7.3602e-06 - accuracy: 1.0000 - val_loss: 6.0427 - val_accuracy: 0.8800\n",
            "Epoch 12/100\n",
            "29/29 [==============================] - 4s 129ms/step - loss: 7.1528e-06 - accuracy: 1.0000 - val_loss: 6.0516 - val_accuracy: 0.8800\n",
            "Epoch 13/100\n",
            "29/29 [==============================] - 2s 78ms/step - loss: 6.9440e-06 - accuracy: 1.0000 - val_loss: 6.0666 - val_accuracy: 0.8800\n",
            "Epoch 14/100\n",
            "29/29 [==============================] - 2s 63ms/step - loss: 6.7041e-06 - accuracy: 1.0000 - val_loss: 6.0601 - val_accuracy: 0.8700\n",
            "Epoch 15/100\n",
            "29/29 [==============================] - 2s 71ms/step - loss: 6.5108e-06 - accuracy: 1.0000 - val_loss: 6.0717 - val_accuracy: 0.8800\n",
            "Epoch 16/100\n",
            "29/29 [==============================] - 2s 64ms/step - loss: 6.3420e-06 - accuracy: 1.0000 - val_loss: 6.0821 - val_accuracy: 0.8800\n",
            "Epoch 17/100\n",
            "29/29 [==============================] - 2s 62ms/step - loss: 6.1686e-06 - accuracy: 1.0000 - val_loss: 6.0854 - val_accuracy: 0.8800\n",
            "Epoch 18/100\n",
            "29/29 [==============================] - 2s 76ms/step - loss: 5.9949e-06 - accuracy: 1.0000 - val_loss: 6.0950 - val_accuracy: 0.8800\n",
            "Epoch 19/100\n",
            "29/29 [==============================] - 3s 94ms/step - loss: 5.8674e-06 - accuracy: 1.0000 - val_loss: 6.0992 - val_accuracy: 0.8700\n",
            "Epoch 20/100\n",
            "29/29 [==============================] - 2s 75ms/step - loss: 5.6376e-06 - accuracy: 1.0000 - val_loss: 6.1130 - val_accuracy: 0.8800\n",
            "Epoch 21/100\n",
            "29/29 [==============================] - 2s 64ms/step - loss: 5.4713e-06 - accuracy: 1.0000 - val_loss: 6.1155 - val_accuracy: 0.8700\n",
            "Epoch 22/100\n",
            "29/29 [==============================] - 2s 64ms/step - loss: 5.3766e-06 - accuracy: 1.0000 - val_loss: 6.1240 - val_accuracy: 0.8700\n",
            "Epoch 23/100\n",
            "29/29 [==============================] - 2s 63ms/step - loss: 5.2389e-06 - accuracy: 1.0000 - val_loss: 6.1359 - val_accuracy: 0.8800\n",
            "Epoch 24/100\n",
            "29/29 [==============================] - 2s 61ms/step - loss: 5.0337e-06 - accuracy: 1.0000 - val_loss: 6.1358 - val_accuracy: 0.8700\n",
            "Epoch 25/100\n",
            "29/29 [==============================] - 2s 71ms/step - loss: 4.8963e-06 - accuracy: 1.0000 - val_loss: 6.1464 - val_accuracy: 0.8700\n",
            "Epoch 26/100\n",
            "29/29 [==============================] - 3s 93ms/step - loss: 4.7707e-06 - accuracy: 1.0000 - val_loss: 6.1523 - val_accuracy: 0.8700\n",
            "Epoch 27/100\n",
            "29/29 [==============================] - 2s 80ms/step - loss: 4.6653e-06 - accuracy: 1.0000 - val_loss: 6.1588 - val_accuracy: 0.8700\n",
            "Epoch 28/100\n",
            "29/29 [==============================] - 2s 62ms/step - loss: 4.5486e-06 - accuracy: 1.0000 - val_loss: 6.1724 - val_accuracy: 0.8700\n",
            "Epoch 29/100\n",
            "29/29 [==============================] - 2s 63ms/step - loss: 4.4350e-06 - accuracy: 1.0000 - val_loss: 6.1709 - val_accuracy: 0.8700\n",
            "Epoch 30/100\n",
            "29/29 [==============================] - 2s 61ms/step - loss: 4.2849e-06 - accuracy: 1.0000 - val_loss: 6.1837 - val_accuracy: 0.8700\n",
            "Epoch 31/100\n",
            "29/29 [==============================] - 2s 62ms/step - loss: 4.1836e-06 - accuracy: 1.0000 - val_loss: 6.1862 - val_accuracy: 0.8700\n",
            "Epoch 32/100\n",
            "29/29 [==============================] - 2s 77ms/step - loss: 4.0630e-06 - accuracy: 1.0000 - val_loss: 6.1940 - val_accuracy: 0.8700\n",
            "Epoch 33/100\n",
            "29/29 [==============================] - 3s 88ms/step - loss: 3.9923e-06 - accuracy: 1.0000 - val_loss: 6.1974 - val_accuracy: 0.8700\n",
            "Epoch 34/100\n",
            "29/29 [==============================] - 2s 64ms/step - loss: 3.8599e-06 - accuracy: 1.0000 - val_loss: 6.2080 - val_accuracy: 0.8700\n",
            "Epoch 35/100\n",
            "29/29 [==============================] - 2s 62ms/step - loss: 3.8373e-06 - accuracy: 1.0000 - val_loss: 6.2131 - val_accuracy: 0.8700\n",
            "Epoch 36/100\n",
            "29/29 [==============================] - 2s 62ms/step - loss: 3.6744e-06 - accuracy: 1.0000 - val_loss: 6.2115 - val_accuracy: 0.8700\n",
            "Epoch 37/100\n",
            "29/29 [==============================] - 2s 63ms/step - loss: 3.6061e-06 - accuracy: 1.0000 - val_loss: 6.2199 - val_accuracy: 0.8700\n",
            "Epoch 38/100\n",
            "29/29 [==============================] - 2s 71ms/step - loss: 3.4753e-06 - accuracy: 1.0000 - val_loss: 6.2347 - val_accuracy: 0.8700\n",
            "Epoch 39/100\n",
            "29/29 [==============================] - 3s 95ms/step - loss: 3.4160e-06 - accuracy: 1.0000 - val_loss: 6.2410 - val_accuracy: 0.8700\n",
            "Epoch 40/100\n",
            "29/29 [==============================] - 2s 61ms/step - loss: 3.3197e-06 - accuracy: 1.0000 - val_loss: 6.2431 - val_accuracy: 0.8700\n",
            "Epoch 41/100\n",
            "29/29 [==============================] - 2s 75ms/step - loss: 3.2438e-06 - accuracy: 1.0000 - val_loss: 6.2483 - val_accuracy: 0.8700\n",
            "Epoch 42/100\n",
            "29/29 [==============================] - 2s 72ms/step - loss: 3.1620e-06 - accuracy: 1.0000 - val_loss: 6.2540 - val_accuracy: 0.8700\n",
            "Epoch 43/100\n",
            "29/29 [==============================] - 2s 77ms/step - loss: 3.1008e-06 - accuracy: 1.0000 - val_loss: 6.2616 - val_accuracy: 0.8700\n",
            "Epoch 44/100\n",
            "29/29 [==============================] - 2s 83ms/step - loss: 3.0680e-06 - accuracy: 1.0000 - val_loss: 6.2660 - val_accuracy: 0.8700\n",
            "Epoch 45/100\n",
            "29/29 [==============================] - 3s 91ms/step - loss: 2.9452e-06 - accuracy: 1.0000 - val_loss: 6.2759 - val_accuracy: 0.8700\n",
            "Epoch 46/100\n",
            "29/29 [==============================] - 2s 63ms/step - loss: 2.8948e-06 - accuracy: 1.0000 - val_loss: 6.2797 - val_accuracy: 0.8700\n",
            "Epoch 47/100\n",
            "29/29 [==============================] - 2s 63ms/step - loss: 2.8094e-06 - accuracy: 1.0000 - val_loss: 6.2834 - val_accuracy: 0.8700\n",
            "Epoch 48/100\n",
            "29/29 [==============================] - 2s 61ms/step - loss: 2.7745e-06 - accuracy: 1.0000 - val_loss: 6.2872 - val_accuracy: 0.8700\n",
            "Epoch 49/100\n",
            "29/29 [==============================] - 2s 62ms/step - loss: 2.6704e-06 - accuracy: 1.0000 - val_loss: 6.2981 - val_accuracy: 0.8700\n",
            "Epoch 50/100\n",
            "29/29 [==============================] - 3s 89ms/step - loss: 2.6497e-06 - accuracy: 1.0000 - val_loss: 6.3060 - val_accuracy: 0.8700\n",
            "Epoch 51/100\n",
            "29/29 [==============================] - 2s 67ms/step - loss: 2.5791e-06 - accuracy: 1.0000 - val_loss: 6.3046 - val_accuracy: 0.8700\n",
            "Epoch 52/100\n",
            "29/29 [==============================] - 2s 74ms/step - loss: 2.5136e-06 - accuracy: 1.0000 - val_loss: 6.3163 - val_accuracy: 0.8700\n",
            "Epoch 53/100\n",
            "29/29 [==============================] - 2s 76ms/step - loss: 2.4487e-06 - accuracy: 1.0000 - val_loss: 6.3214 - val_accuracy: 0.8700\n",
            "Epoch 54/100\n",
            "29/29 [==============================] - 3s 97ms/step - loss: 2.3886e-06 - accuracy: 1.0000 - val_loss: 6.3236 - val_accuracy: 0.8700\n",
            "Epoch 55/100\n",
            "29/29 [==============================] - 2s 77ms/step - loss: 2.3505e-06 - accuracy: 1.0000 - val_loss: 6.3320 - val_accuracy: 0.8700\n",
            "Epoch 56/100\n",
            "29/29 [==============================] - 2s 63ms/step - loss: 2.2978e-06 - accuracy: 1.0000 - val_loss: 6.3354 - val_accuracy: 0.8700\n",
            "Epoch 57/100\n",
            "29/29 [==============================] - 2s 62ms/step - loss: 2.2425e-06 - accuracy: 1.0000 - val_loss: 6.3453 - val_accuracy: 0.8700\n",
            "Epoch 58/100\n",
            "29/29 [==============================] - 2s 62ms/step - loss: 2.1834e-06 - accuracy: 1.0000 - val_loss: 6.3471 - val_accuracy: 0.8700\n",
            "Epoch 59/100\n",
            "29/29 [==============================] - 2s 65ms/step - loss: 2.1452e-06 - accuracy: 1.0000 - val_loss: 6.3520 - val_accuracy: 0.8700\n",
            "Epoch 60/100\n",
            "29/29 [==============================] - 2s 69ms/step - loss: 2.0918e-06 - accuracy: 1.0000 - val_loss: 6.3637 - val_accuracy: 0.8700\n",
            "Epoch 61/100\n",
            "29/29 [==============================] - 3s 96ms/step - loss: 2.0623e-06 - accuracy: 1.0000 - val_loss: 6.3635 - val_accuracy: 0.8700\n",
            "Epoch 62/100\n",
            "29/29 [==============================] - 2s 64ms/step - loss: 2.0261e-06 - accuracy: 1.0000 - val_loss: 6.3750 - val_accuracy: 0.8700\n",
            "Epoch 63/100\n",
            "29/29 [==============================] - 2s 62ms/step - loss: 1.9748e-06 - accuracy: 1.0000 - val_loss: 6.3725 - val_accuracy: 0.8700\n",
            "Epoch 64/100\n",
            "29/29 [==============================] - 2s 63ms/step - loss: 1.9231e-06 - accuracy: 1.0000 - val_loss: 6.3815 - val_accuracy: 0.8700\n",
            "Epoch 65/100\n",
            "29/29 [==============================] - 2s 62ms/step - loss: 1.8813e-06 - accuracy: 1.0000 - val_loss: 6.3852 - val_accuracy: 0.8700\n",
            "Epoch 66/100\n",
            "29/29 [==============================] - 2s 86ms/step - loss: 1.8379e-06 - accuracy: 1.0000 - val_loss: 6.3894 - val_accuracy: 0.8700\n",
            "Epoch 67/100\n",
            "29/29 [==============================] - 3s 95ms/step - loss: 1.8027e-06 - accuracy: 1.0000 - val_loss: 6.3989 - val_accuracy: 0.8700\n",
            "Epoch 68/100\n",
            "29/29 [==============================] - 2s 64ms/step - loss: 1.7578e-06 - accuracy: 1.0000 - val_loss: 6.4030 - val_accuracy: 0.8700\n",
            "Epoch 69/100\n",
            "29/29 [==============================] - 2s 62ms/step - loss: 1.7239e-06 - accuracy: 1.0000 - val_loss: 6.4051 - val_accuracy: 0.8700\n",
            "Epoch 70/100\n",
            "29/29 [==============================] - 2s 60ms/step - loss: 1.6866e-06 - accuracy: 1.0000 - val_loss: 6.4122 - val_accuracy: 0.8700\n",
            "Epoch 71/100\n",
            "29/29 [==============================] - 2s 76ms/step - loss: 1.6596e-06 - accuracy: 1.0000 - val_loss: 6.4192 - val_accuracy: 0.8700\n",
            "Epoch 72/100\n",
            "29/29 [==============================] - 3s 96ms/step - loss: 1.6225e-06 - accuracy: 1.0000 - val_loss: 6.4238 - val_accuracy: 0.8700\n",
            "Epoch 73/100\n",
            "29/29 [==============================] - 3s 86ms/step - loss: 1.5837e-06 - accuracy: 1.0000 - val_loss: 6.4306 - val_accuracy: 0.8700\n",
            "Epoch 74/100\n",
            "29/29 [==============================] - 2s 64ms/step - loss: 1.5575e-06 - accuracy: 1.0000 - val_loss: 6.4356 - val_accuracy: 0.8700\n",
            "Epoch 75/100\n",
            "29/29 [==============================] - 2s 62ms/step - loss: 1.5288e-06 - accuracy: 1.0000 - val_loss: 6.4340 - val_accuracy: 0.8700\n",
            "Epoch 76/100\n",
            "29/29 [==============================] - 2s 63ms/step - loss: 1.4883e-06 - accuracy: 1.0000 - val_loss: 6.4449 - val_accuracy: 0.8700\n",
            "Epoch 77/100\n",
            "29/29 [==============================] - 2s 62ms/step - loss: 1.4694e-06 - accuracy: 1.0000 - val_loss: 6.4519 - val_accuracy: 0.8700\n",
            "Epoch 78/100\n",
            "29/29 [==============================] - 2s 63ms/step - loss: 1.4472e-06 - accuracy: 1.0000 - val_loss: 6.4540 - val_accuracy: 0.8700\n",
            "Epoch 79/100\n",
            "29/29 [==============================] - 3s 93ms/step - loss: 1.3982e-06 - accuracy: 1.0000 - val_loss: 6.4623 - val_accuracy: 0.8700\n",
            "Epoch 80/100\n",
            "29/29 [==============================] - 3s 86ms/step - loss: 1.3750e-06 - accuracy: 1.0000 - val_loss: 6.4651 - val_accuracy: 0.8700\n",
            "Epoch 81/100\n",
            "29/29 [==============================] - 2s 61ms/step - loss: 1.3526e-06 - accuracy: 1.0000 - val_loss: 6.4739 - val_accuracy: 0.8700\n",
            "Epoch 82/100\n",
            "29/29 [==============================] - 2s 65ms/step - loss: 1.3152e-06 - accuracy: 1.0000 - val_loss: 6.4741 - val_accuracy: 0.8700\n",
            "Epoch 83/100\n",
            "29/29 [==============================] - 2s 63ms/step - loss: 1.3004e-06 - accuracy: 1.0000 - val_loss: 6.4811 - val_accuracy: 0.8700\n",
            "Epoch 84/100\n",
            "29/29 [==============================] - 3s 110ms/step - loss: 1.2646e-06 - accuracy: 1.0000 - val_loss: 6.4873 - val_accuracy: 0.8700\n",
            "Epoch 85/100\n",
            "29/29 [==============================] - 3s 95ms/step - loss: 1.2486e-06 - accuracy: 1.0000 - val_loss: 6.4937 - val_accuracy: 0.8700\n",
            "Epoch 86/100\n",
            "29/29 [==============================] - 2s 63ms/step - loss: 1.2139e-06 - accuracy: 1.0000 - val_loss: 6.4990 - val_accuracy: 0.8700\n",
            "Epoch 87/100\n",
            "29/29 [==============================] - 2s 64ms/step - loss: 1.1913e-06 - accuracy: 1.0000 - val_loss: 6.5018 - val_accuracy: 0.8700\n",
            "Epoch 88/100\n",
            "29/29 [==============================] - 2s 63ms/step - loss: 1.1676e-06 - accuracy: 1.0000 - val_loss: 6.5066 - val_accuracy: 0.8700\n",
            "Epoch 89/100\n",
            "29/29 [==============================] - 2s 63ms/step - loss: 1.1592e-06 - accuracy: 1.0000 - val_loss: 6.5163 - val_accuracy: 0.8700\n",
            "Epoch 90/100\n",
            "29/29 [==============================] - 3s 87ms/step - loss: 1.1234e-06 - accuracy: 1.0000 - val_loss: 6.5162 - val_accuracy: 0.8700\n",
            "Epoch 91/100\n",
            "29/29 [==============================] - 3s 94ms/step - loss: 1.1016e-06 - accuracy: 1.0000 - val_loss: 6.5191 - val_accuracy: 0.8700\n",
            "Epoch 92/100\n",
            "29/29 [==============================] - 2s 77ms/step - loss: 1.0837e-06 - accuracy: 1.0000 - val_loss: 6.5260 - val_accuracy: 0.8700\n",
            "Epoch 93/100\n",
            "29/29 [==============================] - 2s 63ms/step - loss: 1.0746e-06 - accuracy: 1.0000 - val_loss: 6.5352 - val_accuracy: 0.8700\n",
            "Epoch 94/100\n",
            "29/29 [==============================] - 2s 79ms/step - loss: 1.0467e-06 - accuracy: 1.0000 - val_loss: 6.5355 - val_accuracy: 0.8700\n",
            "Epoch 95/100\n",
            "29/29 [==============================] - 2s 64ms/step - loss: 1.0193e-06 - accuracy: 1.0000 - val_loss: 6.5434 - val_accuracy: 0.8700\n",
            "Epoch 96/100\n",
            "29/29 [==============================] - 2s 64ms/step - loss: 1.0003e-06 - accuracy: 1.0000 - val_loss: 6.5515 - val_accuracy: 0.8700\n",
            "Epoch 97/100\n",
            "29/29 [==============================] - 3s 91ms/step - loss: 9.8523e-07 - accuracy: 1.0000 - val_loss: 6.5546 - val_accuracy: 0.8700\n",
            "Epoch 98/100\n",
            "29/29 [==============================] - 2s 66ms/step - loss: 9.6350e-07 - accuracy: 1.0000 - val_loss: 6.5574 - val_accuracy: 0.8700\n",
            "Epoch 99/100\n",
            "29/29 [==============================] - 2s 65ms/step - loss: 9.4419e-07 - accuracy: 1.0000 - val_loss: 6.5605 - val_accuracy: 0.8700\n",
            "Epoch 100/100\n",
            "29/29 [==============================] - 2s 63ms/step - loss: 9.2979e-07 - accuracy: 1.0000 - val_loss: 6.5678 - val_accuracy: 0.8700\n"
          ]
        },
        {
          "output_type": "execute_result",
          "data": {
            "text/plain": [
              "<keras.src.callbacks.History at 0x7cf1a56cd630>"
            ]
          },
          "metadata": {},
          "execution_count": 40
        }
      ],
      "source": [
        "model.fit_generator(\n",
        "    train_datagenerator,\n",
        "    epochs=100,\n",
        "    validation_data = test_datagenerator,\n",
        "    callbacks = [callbacks]\n",
        "    )"
      ]
    },
    {
      "cell_type": "markdown",
      "source": [],
      "metadata": {
        "id": "-WU-UF3IPzE-"
      }
    },
    {
      "cell_type": "code",
      "execution_count": 41,
      "metadata": {
        "id": "_YLuia9S_l9F"
      },
      "outputs": [],
      "source": [
        "model.save('mymodel.h5')"
      ]
    },
    {
      "cell_type": "code",
      "source": [
        "model = tf.keras.models.load_model('mymodel.h5')\n"
      ],
      "metadata": {
        "id": "36l69a1GG2_Y"
      },
      "execution_count": 42,
      "outputs": []
    },
    {
      "cell_type": "code",
      "source": [
        "import numpy as np\n",
        "from tensorflow.keras.preprocessing import image"
      ],
      "metadata": {
        "id": "rUAJv3b7N2ic"
      },
      "execution_count": 43,
      "outputs": []
    },
    {
      "cell_type": "code",
      "source": [
        "path = '4.jpg'\n",
        "img = image.load_img(path, target_size=(128, 128))\n",
        "x = image.img_to_array(img)\n",
        "x = np.expand_dims(x, axis=0)\n",
        "\n",
        "images = np.vstack([x])\n",
        "classes = model.predict(images)\n",
        "print(classes[0][0])\n",
        "if classes[0]<0.5:\n",
        "    print(\"Given image is bad\")\n",
        "else:\n",
        "    print(\"Given image is good\")"
      ],
      "metadata": {
        "colab": {
          "base_uri": "https://localhost:8080/"
        },
        "id": "MHSr6K5tN9Vh",
        "outputId": "51872203-584d-4cd6-ab79-b514b8a99605"
      },
      "execution_count": 57,
      "outputs": [
        {
          "output_type": "stream",
          "name": "stdout",
          "text": [
            "1/1 [==============================] - 0s 17ms/step\n",
            "1.0\n",
            "Given image is good\n"
          ]
        }
      ]
    },
    {
      "cell_type": "code",
      "source": [
        "import os\n",
        "import numpy as np\n",
        "import tensorflow as tf\n",
        "from tensorflow.keras.preprocessing import image\n",
        "\n",
        "# Load your pre-trained model\n",
        "model = tf.keras.models.load_model('mymodel.h5')\n",
        "\n",
        "# Define the directory path\n",
        "image_directory = 'shiba'  # Replace with the actual path to your image directory\n",
        "\n",
        "# Iterate through the image files in the directory\n",
        "for filename in os.listdir(image_directory):\n",
        "    if filename.endswith('.jpg') or filename.endswith('.jpeg') or filename.endswith('.png'):\n",
        "        # Construct the full path to the image\n",
        "        image_path = os.path.join(image_directory, filename)\n",
        "\n",
        "        # Load and preprocess the image\n",
        "        img = image.load_img(image_path, target_size=(128, 128))\n",
        "        x = image.img_to_array(img)\n",
        "        x = np.expand_dims(x, axis=0)\n",
        "\n",
        "        # Make predictions\n",
        "        classes = model.predict(x)\n",
        "        probability = classes[0][0]\n",
        "\n",
        "        if probability < 0.5:\n",
        "            print(f\"Image {filename} - Given image is bad\")\n",
        "        else:\n",
        "            print(f\"Image {filename} - Given image is good\")\n"
      ],
      "metadata": {
        "colab": {
          "base_uri": "https://localhost:8080/"
        },
        "id": "4HhSskcsRgeG",
        "outputId": "2f8741f4-b8fe-4d54-a055-302cdd99b72b"
      },
      "execution_count": 66,
      "outputs": [
        {
          "output_type": "stream",
          "name": "stdout",
          "text": [
            "WARNING: AutoGraph could not transform <function Model.make_predict_function.<locals>.predict_function at 0x7cf199fc57e0> and will run it as-is.\n",
            "Please report this to the TensorFlow team. When filing the bug, set the verbosity to 10 (on Linux, `export AUTOGRAPH_VERBOSITY=10`) and attach the full output.\n",
            "Cause: closure mismatch, requested ('self', 'step_function'), but source function had ()\n",
            "To silence this warning, decorate the function with @tf.autograph.experimental.do_not_convert\n",
            "1/1 [==============================] - 0s 76ms/step\n",
            "Image 5.jpg - Given image is good\n",
            "1/1 [==============================] - 0s 17ms/step\n",
            "Image 1.jpg - Given image is good\n",
            "1/1 [==============================] - 0s 17ms/step\n",
            "Image 6.jpg - Given image is bad\n",
            "1/1 [==============================] - 0s 20ms/step\n",
            "Image 3.jpg - Given image is good\n",
            "1/1 [==============================] - 0s 19ms/step\n",
            "Image 4.jpg - Given image is bad\n",
            "1/1 [==============================] - 0s 18ms/step\n",
            "Image 2.jpg - Given image is good\n"
          ]
        }
      ]
    }
  ],
  "metadata": {
    "kernelspec": {
      "display_name": "Python 3",
      "name": "python3"
    },
    "language_info": {
      "codemirror_mode": {
        "name": "ipython",
        "version": 3
      },
      "file_extension": ".py",
      "mimetype": "text/x-python",
      "name": "python",
      "nbconvert_exporter": "python",
      "pygments_lexer": "ipython3",
      "version": "3.7.1"
    },
    "colab": {
      "provenance": [],
      "gpuType": "T4"
    },
    "accelerator": "GPU"
  },
  "nbformat": 4,
  "nbformat_minor": 0
}