{
  "cells": [
    {
      "cell_type": "code",
      "source": [
        "import os\n",
        "import pandas as pd\n",
        "import random\n",
        "import requests"
      ],
      "metadata": {
        "id": "Zo1ZGQ5r_rVU"
      },
      "execution_count": null,
      "outputs": []
    },
    {
      "cell_type": "code",
      "source": [
        "# Define the paths to your CSV files\n",
        "good_csv_path = 'goodOutput.csv'\n",
        "bad_csv_path = 'badOutput.csv'\n",
        "\n",
        "# Define the output directory structure\n",
        "output_base_dir = 'output'\n",
        "output_dirs = ['test/good', 'test/bad', 'train/good', 'train/bad']\n",
        "\n",
        "# Create the output directories\n",
        "for output_dir in output_dirs:\n",
        "    os.makedirs(os.path.join(output_base_dir, output_dir), exist_ok=True)\n",
        "\n",
        "# Load the CSV files into pandas dataframes\n",
        "good_df = pd.read_csv(good_csv_path)\n",
        "bad_df = pd.read_csv(bad_csv_path)\n",
        "\n",
        "# Define the number of random rows to select for testing\n",
        "num_test_samples = 500\n",
        "\n",
        "# Randomly select rows for testing and training from both good and bad dataframes\n",
        "good_test_samples = random.sample(good_df.index.tolist(), num_test_samples)\n",
        "bad_test_samples = random.sample(bad_df.index.tolist(), num_test_samples)\n",
        "\n",
        "# Download and save the test set images\n",
        "for index in good_test_samples:\n",
        "    url = good_df.at[index, 'Thumbnail']\n",
        "    response = requests.get(url)\n",
        "    if response.status_code == 200:\n",
        "        with open(os.path.join(output_base_dir, 'test/good', f'good_test_{index}.jpg'), 'wb') as f:\n",
        "            f.write(response.content)\n",
        "\n",
        "for index in bad_test_samples:\n",
        "    url = bad_df.at[index, 'Thumbnail']\n",
        "    response = requests.get(url)\n",
        "    if response.status_code == 200:\n",
        "        with open(os.path.join(output_base_dir, 'test/bad', f'bad_test_{index}.jpg'), 'wb') as f:\n",
        "            f.write(response.content)\n",
        "\n",
        "# Create lists of rows for the training set\n",
        "good_train_samples = [index for index in good_df.index if index not in good_test_samples]\n",
        "bad_train_samples = [index for index in bad_df.index if index not in bad_test_samples]\n",
        "\n",
        "# Calculate the number of rows to select for training (minimum of both files)\n",
        "num_train_samples = min(len(good_train_samples), len(bad_train_samples))\n",
        "\n",
        "# Randomly select the same number of rows from both good and bad dataframes for training\n",
        "train_samples_good = random.sample(good_train_samples, num_train_samples)\n",
        "train_samples_bad = random.sample(bad_train_samples, num_train_samples)\n",
        "\n",
        "\n",
        "\n",
        "# Download and save the training set images\n",
        "for index in train_samples_good:\n",
        "    url = good_df.at[index, 'Thumbnail']\n",
        "    response = requests.get(url)\n",
        "    if response.status_code == 200:\n",
        "        with open(os.path.join(output_base_dir, 'train/good', f'good_train_{index}.jpg'), 'wb') as f:\n",
        "            f.write(response.content)\n",
        "\n",
        "for index in train_samples_bad:\n",
        "    url = bad_df.at[index, 'Thumbnail']\n",
        "    response = requests.get(url)\n",
        "    if response.status_code == 200:\n",
        "        with open(os.path.join(output_base_dir, 'train/bad', f'bad_train_{index}.jpg'), 'wb') as f:\n",
        "            f.write(response.content)"
      ],
      "metadata": {
        "id": "IJsXfceUAtsC"
      },
      "execution_count": null,
      "outputs": []
    },
    {
      "cell_type": "code",
      "execution_count": null,
      "metadata": {
        "id": "mu3VdQmo_l9C"
      },
      "outputs": [],
      "source": [
        "import tensorflow as tf\n",
        "tf.get_logger().setLevel('ERROR')\n",
        "from tensorflow.keras.preprocessing.image import ImageDataGenerator"
      ]
    },
    {
      "cell_type": "markdown",
      "metadata": {
        "id": "oJ-pOCmy_l9C"
      },
      "source": [
        "We shall use the ImageDataGenerator class to feed in the training and validation data to the model. This class can also be used to generate augmented data.\n",
        "\n",
        "To know more about ImageDataGenerator class, visit https://keras.io/preprocessing/image/#imagedatagenerator-class"
      ]
    },
    {
      "cell_type": "code",
      "execution_count": null,
      "metadata": {
        "id": "PhKp1Huu_l9D",
        "outputId": "424894cc-b84a-4a79-fb2c-5cc113452238",
        "colab": {
          "base_uri": "https://localhost:8080/"
        }
      },
      "outputs": [
        {
          "output_type": "stream",
          "name": "stdout",
          "text": [
            "Found 2850 images belonging to 2 classes.\n",
            "Found 1000 images belonging to 2 classes.\n"
          ]
        }
      ],
      "source": [
        "train_datagenerator = ImageDataGenerator(rescale=1./255)\n",
        "test_datagenerator = ImageDataGenerator(rescale=1./255)\n",
        "\n",
        "train_datagenerator = train_datagenerator.flow_from_directory(\n",
        "    'output/train',\n",
        "    target_size=(128,128),\n",
        "    batch_size=32,\n",
        "    class_mode='binary')\n",
        "\n",
        "test_datagenerator = test_datagenerator.flow_from_directory(\n",
        "    'output/test',\n",
        "    target_size=(128,128),\n",
        "    batch_size=32,\n",
        "    class_mode='binary')"
      ]
    },
    {
      "cell_type": "markdown",
      "metadata": {
        "id": "AhxT6d6S_l9E"
      },
      "source": [
        "Our model will have 3 Convolution2D layers. You can increse or decrease as per your needs."
      ]
    },
    {
      "cell_type": "code",
      "execution_count": null,
      "metadata": {
        "id": "VYnnAqkR_l9E"
      },
      "outputs": [],
      "source": [
        "model = tf.keras.models.Sequential([\n",
        "    tf.keras.layers.Conv2D(32, (3,3),padding='same', activation='relu', input_shape=(128,128,3)),\n",
        "    tf.keras.layers.MaxPooling2D((2,2),2),\n",
        "\n",
        "    tf.keras.layers.Conv2D(64, (3,3), padding='same', activation='relu'),\n",
        "    tf.keras.layers.MaxPooling2D((2,2),2),\n",
        "\n",
        "    tf.keras.layers.Conv2D(128, (3,3), padding='same', activation='relu'),\n",
        "    tf.keras.layers.MaxPooling2D((2,2),2),\n",
        "\n",
        "    tf.keras.layers.Flatten(),\n",
        "    tf.keras.layers.Dense(512, activation='relu'),\n",
        "\n",
        "    tf.keras.layers.Dense(1, activation='sigmoid')\n",
        "])"
      ]
    },
    {
      "cell_type": "code",
      "execution_count": null,
      "metadata": {
        "id": "9fW8HO8X_l9E",
        "outputId": "a5ba97b6-9fcc-4e2a-aaac-7c909b8b5617",
        "colab": {
          "base_uri": "https://localhost:8080/"
        }
      },
      "outputs": [
        {
          "output_type": "stream",
          "name": "stdout",
          "text": [
            "Model: \"sequential\"\n",
            "_________________________________________________________________\n",
            " Layer (type)                Output Shape              Param #   \n",
            "=================================================================\n",
            " conv2d (Conv2D)             (None, 128, 128, 32)      896       \n",
            "                                                                 \n",
            " max_pooling2d (MaxPooling2  (None, 64, 64, 32)        0         \n",
            " D)                                                              \n",
            "                                                                 \n",
            " conv2d_1 (Conv2D)           (None, 64, 64, 64)        18496     \n",
            "                                                                 \n",
            " max_pooling2d_1 (MaxPoolin  (None, 32, 32, 64)        0         \n",
            " g2D)                                                            \n",
            "                                                                 \n",
            " conv2d_2 (Conv2D)           (None, 32, 32, 128)       73856     \n",
            "                                                                 \n",
            " max_pooling2d_2 (MaxPoolin  (None, 16, 16, 128)       0         \n",
            " g2D)                                                            \n",
            "                                                                 \n",
            " flatten (Flatten)           (None, 32768)             0         \n",
            "                                                                 \n",
            " dense (Dense)               (None, 512)               16777728  \n",
            "                                                                 \n",
            " dense_1 (Dense)             (None, 1)                 513       \n",
            "                                                                 \n",
            "=================================================================\n",
            "Total params: 16871489 (64.36 MB)\n",
            "Trainable params: 16871489 (64.36 MB)\n",
            "Non-trainable params: 0 (0.00 Byte)\n",
            "_________________________________________________________________\n",
            "None\n"
          ]
        }
      ],
      "source": [
        "print(model.summary())"
      ]
    },
    {
      "cell_type": "markdown",
      "metadata": {
        "id": "kjd9XcDW_l9F"
      },
      "source": [
        "We shall use Adam optimizer with a learning rate of 0.001 (hyperparameter). We choose 'binary_crossentropy' loss as our model is a binary calssifier (i.e, we have only 2 classes)"
      ]
    },
    {
      "cell_type": "code",
      "execution_count": null,
      "metadata": {
        "id": "Rri4ACSi_l9F"
      },
      "outputs": [],
      "source": [
        "model.compile(loss='binary_crossentropy',\n",
        "             optimizer=tf.keras.optimizers.Adam(0.001),\n",
        "             metrics=['accuracy'])"
      ]
    },
    {
      "cell_type": "markdown",
      "metadata": {
        "id": "oL-KzT-x_l9F"
      },
      "source": [
        "At the end of each epoch we can check if the model has reached the required accuracy and terminate the training."
      ]
    },
    {
      "cell_type": "code",
      "execution_count": null,
      "metadata": {
        "id": "yhW9KGNF_l9F"
      },
      "outputs": [],
      "source": [
        "DESIRED_ACCURACY = 0.90\n",
        "\n",
        "class myCallback(tf.keras.callbacks.Callback):\n",
        "    def on_epoch_end(self, epochs, logs={}) :\n",
        "        if(logs.get('acc') is not None and logs.get('acc') >= DESIRED_ACCURACY) :\n",
        "            print('\\nReached 95% accuracy so cancelling training!')\n",
        "            self.model.stop_training = True\n",
        "\n",
        "callbacks = myCallback()"
      ]
    },
    {
      "cell_type": "markdown",
      "metadata": {
        "id": "BAsKhwJK_l9F"
      },
      "source": [
        "To know more about fit_generator visit https://keras.io/models/model/#fit_generator"
      ]
    },
    {
      "cell_type": "code",
      "execution_count": null,
      "metadata": {
        "id": "syieqrlr_l9F",
        "outputId": "5edccda5-6713-4666-8795-05df6c4cd645",
        "colab": {
          "base_uri": "https://localhost:8080/"
        }
      },
      "outputs": [
        {
          "output_type": "stream",
          "name": "stdout",
          "text": [
            "Epoch 1/100\n",
            " 1/90 [..............................] - ETA: 6s - loss: 1.4143e-07 - accuracy: 1.0000"
          ]
        },
        {
          "output_type": "stream",
          "name": "stderr",
          "text": [
            "<ipython-input-9-9318e07318eb>:1: UserWarning: `Model.fit_generator` is deprecated and will be removed in a future version. Please use `Model.fit`, which supports generators.\n",
            "  model.fit_generator(\n"
          ]
        },
        {
          "output_type": "stream",
          "name": "stdout",
          "text": [
            "90/90 [==============================] - 7s 82ms/step - loss: 1.1952e-07 - accuracy: 1.0000 - val_loss: 3.8581 - val_accuracy: 0.7810\n",
            "Epoch 2/100\n",
            "90/90 [==============================] - 5s 58ms/step - loss: 1.1066e-07 - accuracy: 1.0000 - val_loss: 3.8717 - val_accuracy: 0.7810\n",
            "Epoch 3/100\n",
            "90/90 [==============================] - 6s 72ms/step - loss: 1.0713e-07 - accuracy: 1.0000 - val_loss: 3.8764 - val_accuracy: 0.7800\n",
            "Epoch 4/100\n",
            "90/90 [==============================] - 5s 59ms/step - loss: 1.0645e-07 - accuracy: 1.0000 - val_loss: 3.8878 - val_accuracy: 0.7800\n",
            "Epoch 5/100\n",
            "90/90 [==============================] - 7s 72ms/step - loss: 9.9588e-08 - accuracy: 1.0000 - val_loss: 3.9026 - val_accuracy: 0.7800\n",
            "Epoch 6/100\n",
            "90/90 [==============================] - 5s 58ms/step - loss: 9.8383e-08 - accuracy: 1.0000 - val_loss: 3.9109 - val_accuracy: 0.7810\n",
            "Epoch 7/100\n",
            "90/90 [==============================] - 6s 69ms/step - loss: 8.8553e-08 - accuracy: 1.0000 - val_loss: 3.9221 - val_accuracy: 0.7810\n",
            "Epoch 8/100\n",
            "90/90 [==============================] - 6s 68ms/step - loss: 8.6426e-08 - accuracy: 1.0000 - val_loss: 3.9323 - val_accuracy: 0.7800\n",
            "Epoch 9/100\n",
            "90/90 [==============================] - 5s 57ms/step - loss: 8.0373e-08 - accuracy: 1.0000 - val_loss: 3.9456 - val_accuracy: 0.7810\n",
            "Epoch 10/100\n",
            "90/90 [==============================] - 6s 68ms/step - loss: 7.8586e-08 - accuracy: 1.0000 - val_loss: 3.9535 - val_accuracy: 0.7810\n",
            "Epoch 11/100\n",
            "90/90 [==============================] - 5s 57ms/step - loss: 7.4637e-08 - accuracy: 1.0000 - val_loss: 3.9602 - val_accuracy: 0.7790\n",
            "Epoch 12/100\n",
            "90/90 [==============================] - 6s 68ms/step - loss: 6.9318e-08 - accuracy: 1.0000 - val_loss: 3.9686 - val_accuracy: 0.7790\n",
            "Epoch 13/100\n",
            "90/90 [==============================] - 5s 59ms/step - loss: 6.9366e-08 - accuracy: 1.0000 - val_loss: 3.9801 - val_accuracy: 0.7780\n",
            "Epoch 14/100\n",
            "90/90 [==============================] - 7s 80ms/step - loss: 6.5454e-08 - accuracy: 1.0000 - val_loss: 3.9900 - val_accuracy: 0.7790\n",
            "Epoch 15/100\n",
            "90/90 [==============================] - 5s 58ms/step - loss: 6.0547e-08 - accuracy: 1.0000 - val_loss: 4.0009 - val_accuracy: 0.7780\n",
            "Epoch 16/100\n",
            "90/90 [==============================] - 6s 68ms/step - loss: 5.8882e-08 - accuracy: 1.0000 - val_loss: 4.0116 - val_accuracy: 0.7790\n",
            "Epoch 17/100\n",
            "90/90 [==============================] - 5s 58ms/step - loss: 5.5184e-08 - accuracy: 1.0000 - val_loss: 4.0172 - val_accuracy: 0.7780\n",
            "Epoch 18/100\n",
            "90/90 [==============================] - 6s 67ms/step - loss: 5.3082e-08 - accuracy: 1.0000 - val_loss: 4.0338 - val_accuracy: 0.7770\n",
            "Epoch 19/100\n",
            "90/90 [==============================] - 5s 59ms/step - loss: 5.1631e-08 - accuracy: 1.0000 - val_loss: 4.0389 - val_accuracy: 0.7770\n",
            "Epoch 20/100\n",
            "90/90 [==============================] - 5s 57ms/step - loss: 4.7570e-08 - accuracy: 1.0000 - val_loss: 4.0549 - val_accuracy: 0.7770\n",
            "Epoch 21/100\n",
            "90/90 [==============================] - 6s 69ms/step - loss: 4.6771e-08 - accuracy: 1.0000 - val_loss: 4.0636 - val_accuracy: 0.7770\n",
            "Epoch 22/100\n",
            "90/90 [==============================] - 6s 63ms/step - loss: 4.4554e-08 - accuracy: 1.0000 - val_loss: 4.0711 - val_accuracy: 0.7780\n",
            "Epoch 23/100\n",
            "90/90 [==============================] - 6s 65ms/step - loss: 4.3580e-08 - accuracy: 1.0000 - val_loss: 4.0811 - val_accuracy: 0.7770\n",
            "Epoch 24/100\n",
            "90/90 [==============================] - 5s 58ms/step - loss: 4.1106e-08 - accuracy: 1.0000 - val_loss: 4.0898 - val_accuracy: 0.7770\n",
            "Epoch 25/100\n",
            "90/90 [==============================] - 5s 58ms/step - loss: 3.8335e-08 - accuracy: 1.0000 - val_loss: 4.1011 - val_accuracy: 0.7770\n",
            "Epoch 26/100\n",
            "90/90 [==============================] - 6s 70ms/step - loss: 3.7140e-08 - accuracy: 1.0000 - val_loss: 4.1141 - val_accuracy: 0.7770\n",
            "Epoch 27/100\n",
            "90/90 [==============================] - 5s 58ms/step - loss: 3.5935e-08 - accuracy: 1.0000 - val_loss: 4.1241 - val_accuracy: 0.7770\n",
            "Epoch 28/100\n",
            "90/90 [==============================] - 6s 68ms/step - loss: 3.3874e-08 - accuracy: 1.0000 - val_loss: 4.1291 - val_accuracy: 0.7770\n",
            "Epoch 29/100\n",
            "90/90 [==============================] - 5s 59ms/step - loss: 3.3078e-08 - accuracy: 1.0000 - val_loss: 4.1479 - val_accuracy: 0.7780\n",
            "Epoch 30/100\n",
            "90/90 [==============================] - 6s 70ms/step - loss: 3.1322e-08 - accuracy: 1.0000 - val_loss: 4.1514 - val_accuracy: 0.7770\n",
            "Epoch 31/100\n",
            "90/90 [==============================] - 5s 58ms/step - loss: 2.9682e-08 - accuracy: 1.0000 - val_loss: 4.1590 - val_accuracy: 0.7770\n",
            "Epoch 32/100\n",
            "90/90 [==============================] - 6s 70ms/step - loss: 2.8464e-08 - accuracy: 1.0000 - val_loss: 4.1759 - val_accuracy: 0.7770\n",
            "Epoch 33/100\n",
            "90/90 [==============================] - 5s 58ms/step - loss: 2.7310e-08 - accuracy: 1.0000 - val_loss: 4.1851 - val_accuracy: 0.7770\n",
            "Epoch 34/100\n",
            "90/90 [==============================] - 6s 69ms/step - loss: 2.6154e-08 - accuracy: 1.0000 - val_loss: 4.1938 - val_accuracy: 0.7770\n",
            "Epoch 35/100\n",
            "90/90 [==============================] - 5s 58ms/step - loss: 2.4634e-08 - accuracy: 1.0000 - val_loss: 4.2065 - val_accuracy: 0.7770\n",
            "Epoch 36/100\n",
            "90/90 [==============================] - 5s 57ms/step - loss: 2.4201e-08 - accuracy: 1.0000 - val_loss: 4.2106 - val_accuracy: 0.7770\n",
            "Epoch 37/100\n",
            "90/90 [==============================] - 7s 73ms/step - loss: 2.3619e-08 - accuracy: 1.0000 - val_loss: 4.2222 - val_accuracy: 0.7750\n",
            "Epoch 38/100\n",
            "90/90 [==============================] - 5s 58ms/step - loss: 2.1995e-08 - accuracy: 1.0000 - val_loss: 4.2324 - val_accuracy: 0.7770\n",
            "Epoch 39/100\n",
            "90/90 [==============================] - 6s 66ms/step - loss: 2.0846e-08 - accuracy: 1.0000 - val_loss: 4.2419 - val_accuracy: 0.7750\n",
            "Epoch 40/100\n",
            "90/90 [==============================] - 5s 59ms/step - loss: 2.0405e-08 - accuracy: 1.0000 - val_loss: 4.2544 - val_accuracy: 0.7770\n",
            "Epoch 41/100\n",
            "90/90 [==============================] - 6s 70ms/step - loss: 1.8881e-08 - accuracy: 1.0000 - val_loss: 4.2682 - val_accuracy: 0.7760\n",
            "Epoch 42/100\n",
            "90/90 [==============================] - 5s 58ms/step - loss: 1.8467e-08 - accuracy: 1.0000 - val_loss: 4.2782 - val_accuracy: 0.7760\n",
            "Epoch 43/100\n",
            "90/90 [==============================] - 6s 70ms/step - loss: 1.7355e-08 - accuracy: 1.0000 - val_loss: 4.2846 - val_accuracy: 0.7740\n",
            "Epoch 44/100\n",
            "90/90 [==============================] - 5s 60ms/step - loss: 1.7037e-08 - accuracy: 1.0000 - val_loss: 4.2956 - val_accuracy: 0.7760\n",
            "Epoch 45/100\n",
            "90/90 [==============================] - 6s 70ms/step - loss: 1.5953e-08 - accuracy: 1.0000 - val_loss: 4.3105 - val_accuracy: 0.7740\n",
            "Epoch 46/100\n",
            "90/90 [==============================] - 5s 58ms/step - loss: 1.5955e-08 - accuracy: 1.0000 - val_loss: 4.3198 - val_accuracy: 0.7750\n",
            "Epoch 47/100\n",
            "90/90 [==============================] - 6s 66ms/step - loss: 1.6164e-08 - accuracy: 1.0000 - val_loss: 4.3242 - val_accuracy: 0.7750\n",
            "Epoch 48/100\n",
            "90/90 [==============================] - 5s 59ms/step - loss: 1.4394e-08 - accuracy: 1.0000 - val_loss: 4.3355 - val_accuracy: 0.7750\n",
            "Epoch 49/100\n",
            "90/90 [==============================] - 6s 71ms/step - loss: 1.3837e-08 - accuracy: 1.0000 - val_loss: 4.3510 - val_accuracy: 0.7750\n",
            "Epoch 50/100\n",
            "90/90 [==============================] - 5s 58ms/step - loss: 1.3393e-08 - accuracy: 1.0000 - val_loss: 4.3568 - val_accuracy: 0.7760\n",
            "Epoch 51/100\n",
            "90/90 [==============================] - 7s 73ms/step - loss: 1.2767e-08 - accuracy: 1.0000 - val_loss: 4.3704 - val_accuracy: 0.7750\n",
            "Epoch 52/100\n",
            "90/90 [==============================] - 6s 65ms/step - loss: 1.1980e-08 - accuracy: 1.0000 - val_loss: 4.3827 - val_accuracy: 0.7750\n",
            "Epoch 53/100\n",
            "90/90 [==============================] - 5s 60ms/step - loss: 1.1443e-08 - accuracy: 1.0000 - val_loss: 4.3918 - val_accuracy: 0.7760\n",
            "Epoch 54/100\n",
            "90/90 [==============================] - 5s 58ms/step - loss: 1.1072e-08 - accuracy: 1.0000 - val_loss: 4.4045 - val_accuracy: 0.7760\n",
            "Epoch 55/100\n",
            "90/90 [==============================] - 6s 69ms/step - loss: 1.0554e-08 - accuracy: 1.0000 - val_loss: 4.4092 - val_accuracy: 0.7760\n",
            "Epoch 56/100\n",
            "90/90 [==============================] - 5s 58ms/step - loss: 1.0169e-08 - accuracy: 1.0000 - val_loss: 4.4224 - val_accuracy: 0.7760\n",
            "Epoch 57/100\n",
            "90/90 [==============================] - 7s 75ms/step - loss: 9.7312e-09 - accuracy: 1.0000 - val_loss: 4.4334 - val_accuracy: 0.7760\n",
            "Epoch 58/100\n",
            "90/90 [==============================] - 5s 58ms/step - loss: 9.5493e-09 - accuracy: 1.0000 - val_loss: 4.4421 - val_accuracy: 0.7760\n",
            "Epoch 59/100\n",
            "90/90 [==============================] - 6s 61ms/step - loss: 9.0328e-09 - accuracy: 1.0000 - val_loss: 4.4557 - val_accuracy: 0.7760\n",
            "Epoch 60/100\n",
            "90/90 [==============================] - 6s 61ms/step - loss: 8.6424e-09 - accuracy: 1.0000 - val_loss: 4.4627 - val_accuracy: 0.7760\n",
            "Epoch 61/100\n",
            "90/90 [==============================] - 5s 59ms/step - loss: 8.3522e-09 - accuracy: 1.0000 - val_loss: 4.4691 - val_accuracy: 0.7760\n",
            "Epoch 62/100\n",
            "90/90 [==============================] - 5s 58ms/step - loss: 8.0243e-09 - accuracy: 1.0000 - val_loss: 4.4822 - val_accuracy: 0.7760\n",
            "Epoch 63/100\n",
            "90/90 [==============================] - 6s 69ms/step - loss: 7.7482e-09 - accuracy: 1.0000 - val_loss: 4.4870 - val_accuracy: 0.7760\n",
            "Epoch 64/100\n",
            "90/90 [==============================] - 6s 71ms/step - loss: 7.3887e-09 - accuracy: 1.0000 - val_loss: 4.4976 - val_accuracy: 0.7760\n",
            "Epoch 65/100\n",
            "90/90 [==============================] - 5s 56ms/step - loss: 7.0718e-09 - accuracy: 1.0000 - val_loss: 4.5098 - val_accuracy: 0.7760\n",
            "Epoch 66/100\n",
            "90/90 [==============================] - 6s 72ms/step - loss: 6.9376e-09 - accuracy: 1.0000 - val_loss: 4.5192 - val_accuracy: 0.7760\n",
            "Epoch 67/100\n",
            "90/90 [==============================] - 5s 59ms/step - loss: 6.6641e-09 - accuracy: 1.0000 - val_loss: 4.5307 - val_accuracy: 0.7760\n",
            "Epoch 68/100\n",
            "90/90 [==============================] - 6s 70ms/step - loss: 6.3863e-09 - accuracy: 1.0000 - val_loss: 4.5407 - val_accuracy: 0.7760\n",
            "Epoch 69/100\n",
            "90/90 [==============================] - 5s 58ms/step - loss: 6.1747e-09 - accuracy: 1.0000 - val_loss: 4.5535 - val_accuracy: 0.7760\n",
            "Epoch 70/100\n",
            "90/90 [==============================] - 5s 57ms/step - loss: 5.8927e-09 - accuracy: 1.0000 - val_loss: 4.5599 - val_accuracy: 0.7760\n",
            "Epoch 71/100\n",
            "90/90 [==============================] - 6s 66ms/step - loss: 5.6595e-09 - accuracy: 1.0000 - val_loss: 4.5722 - val_accuracy: 0.7760\n",
            "Epoch 72/100\n",
            "90/90 [==============================] - 5s 56ms/step - loss: 5.4570e-09 - accuracy: 1.0000 - val_loss: 4.5793 - val_accuracy: 0.7770\n",
            "Epoch 73/100\n",
            "90/90 [==============================] - 5s 59ms/step - loss: 5.2456e-09 - accuracy: 1.0000 - val_loss: 4.5896 - val_accuracy: 0.7760\n",
            "Epoch 74/100\n",
            "90/90 [==============================] - 5s 58ms/step - loss: 5.1101e-09 - accuracy: 1.0000 - val_loss: 4.5964 - val_accuracy: 0.7770\n",
            "Epoch 75/100\n",
            "90/90 [==============================] - 6s 69ms/step - loss: 4.9310e-09 - accuracy: 1.0000 - val_loss: 4.6112 - val_accuracy: 0.7760\n",
            "Epoch 76/100\n",
            "90/90 [==============================] - 5s 56ms/step - loss: 4.7426e-09 - accuracy: 1.0000 - val_loss: 4.6217 - val_accuracy: 0.7760\n",
            "Epoch 77/100\n",
            "90/90 [==============================] - 6s 67ms/step - loss: 4.9585e-09 - accuracy: 1.0000 - val_loss: 4.6258 - val_accuracy: 0.7750\n",
            "Epoch 78/100\n",
            "90/90 [==============================] - 5s 57ms/step - loss: 4.3874e-09 - accuracy: 1.0000 - val_loss: 4.6413 - val_accuracy: 0.7760\n",
            "Epoch 79/100\n",
            "90/90 [==============================] - 7s 73ms/step - loss: 4.2754e-09 - accuracy: 1.0000 - val_loss: 4.6480 - val_accuracy: 0.7770\n",
            "Epoch 80/100\n",
            "90/90 [==============================] - 5s 57ms/step - loss: 4.0900e-09 - accuracy: 1.0000 - val_loss: 4.6552 - val_accuracy: 0.7770\n",
            "Epoch 81/100\n",
            "90/90 [==============================] - 7s 73ms/step - loss: 4.0293e-09 - accuracy: 1.0000 - val_loss: 4.6653 - val_accuracy: 0.7770\n",
            "Epoch 82/100\n",
            "90/90 [==============================] - 5s 57ms/step - loss: 3.8820e-09 - accuracy: 1.0000 - val_loss: 4.6743 - val_accuracy: 0.7770\n",
            "Epoch 83/100\n",
            "90/90 [==============================] - 6s 63ms/step - loss: 3.6419e-09 - accuracy: 1.0000 - val_loss: 4.6848 - val_accuracy: 0.7750\n",
            "Epoch 84/100\n",
            "90/90 [==============================] - 5s 57ms/step - loss: 3.6829e-09 - accuracy: 1.0000 - val_loss: 4.6942 - val_accuracy: 0.7750\n",
            "Epoch 85/100\n",
            "90/90 [==============================] - 5s 58ms/step - loss: 3.4915e-09 - accuracy: 1.0000 - val_loss: 4.7054 - val_accuracy: 0.7750\n",
            "Epoch 86/100\n",
            "90/90 [==============================] - 6s 68ms/step - loss: 3.3971e-09 - accuracy: 1.0000 - val_loss: 4.7139 - val_accuracy: 0.7760\n",
            "Epoch 87/100\n",
            "90/90 [==============================] - 5s 56ms/step - loss: 3.2797e-09 - accuracy: 1.0000 - val_loss: 4.7213 - val_accuracy: 0.7750\n",
            "Epoch 88/100\n",
            "90/90 [==============================] - 6s 66ms/step - loss: 3.1617e-09 - accuracy: 1.0000 - val_loss: 4.7248 - val_accuracy: 0.7740\n",
            "Epoch 89/100\n",
            "90/90 [==============================] - 5s 59ms/step - loss: 3.1210e-09 - accuracy: 1.0000 - val_loss: 4.7392 - val_accuracy: 0.7750\n",
            "Epoch 90/100\n",
            "90/90 [==============================] - 5s 60ms/step - loss: 3.0527e-09 - accuracy: 1.0000 - val_loss: 4.7468 - val_accuracy: 0.7750\n",
            "Epoch 91/100\n",
            "90/90 [==============================] - 5s 59ms/step - loss: 2.8775e-09 - accuracy: 1.0000 - val_loss: 4.7566 - val_accuracy: 0.7740\n",
            "Epoch 92/100\n",
            "90/90 [==============================] - 6s 69ms/step - loss: 2.8524e-09 - accuracy: 1.0000 - val_loss: 4.7681 - val_accuracy: 0.7750\n",
            "Epoch 93/100\n",
            "90/90 [==============================] - 6s 68ms/step - loss: 2.7789e-09 - accuracy: 1.0000 - val_loss: 4.7701 - val_accuracy: 0.7750\n",
            "Epoch 94/100\n",
            "90/90 [==============================] - 5s 57ms/step - loss: 2.6639e-09 - accuracy: 1.0000 - val_loss: 4.7857 - val_accuracy: 0.7740\n",
            "Epoch 95/100\n",
            "90/90 [==============================] - 6s 72ms/step - loss: 2.6488e-09 - accuracy: 1.0000 - val_loss: 4.7923 - val_accuracy: 0.7740\n",
            "Epoch 96/100\n",
            "90/90 [==============================] - 5s 57ms/step - loss: 2.5792e-09 - accuracy: 1.0000 - val_loss: 4.8015 - val_accuracy: 0.7740\n",
            "Epoch 97/100\n",
            "90/90 [==============================] - 6s 66ms/step - loss: 2.5105e-09 - accuracy: 1.0000 - val_loss: 4.8104 - val_accuracy: 0.7730\n",
            "Epoch 98/100\n",
            "90/90 [==============================] - 5s 58ms/step - loss: 2.3050e-09 - accuracy: 1.0000 - val_loss: 4.8106 - val_accuracy: 0.7730\n",
            "Epoch 99/100\n",
            "90/90 [==============================] - 6s 67ms/step - loss: 2.3577e-09 - accuracy: 1.0000 - val_loss: 4.8230 - val_accuracy: 0.7730\n",
            "Epoch 100/100\n",
            "90/90 [==============================] - 5s 57ms/step - loss: 2.3284e-09 - accuracy: 1.0000 - val_loss: 4.8304 - val_accuracy: 0.7730\n"
          ]
        },
        {
          "output_type": "execute_result",
          "data": {
            "text/plain": [
              "<keras.src.callbacks.History at 0x7c17ccae54b0>"
            ]
          },
          "metadata": {},
          "execution_count": 9
        }
      ],
      "source": [
        "model.fit_generator(\n",
        "    train_datagenerator,\n",
        "    epochs=100,\n",
        "    validation_data = test_datagenerator,\n",
        "    callbacks = [callbacks]\n",
        "    )"
      ]
    },
    {
      "cell_type": "markdown",
      "source": [],
      "metadata": {
        "id": "-WU-UF3IPzE-"
      }
    },
    {
      "cell_type": "code",
      "execution_count": null,
      "metadata": {
        "id": "_YLuia9S_l9F",
        "colab": {
          "base_uri": "https://localhost:8080/"
        },
        "outputId": "03cda899-ed48-4cd3-cd96-55743c8c0208"
      },
      "outputs": [
        {
          "output_type": "stream",
          "name": "stderr",
          "text": [
            "/usr/local/lib/python3.10/dist-packages/keras/src/engine/training.py:3000: UserWarning: You are saving your model as an HDF5 file via `model.save()`. This file format is considered legacy. We recommend using instead the native Keras format, e.g. `model.save('my_model.keras')`.\n",
            "  saving_api.save_model(\n"
          ]
        }
      ],
      "source": [
        "model.save('mymodel.h5')"
      ]
    },
    {
      "cell_type": "code",
      "source": [
        "from google.colab import drive\n",
        "drive.mount('/content/drive')"
      ],
      "metadata": {
        "colab": {
          "base_uri": "https://localhost:8080/"
        },
        "id": "TQZ0i6n1n4XS",
        "outputId": "b7c7136d-59b4-403b-c59e-3526f5f7fff9"
      },
      "execution_count": null,
      "outputs": [
        {
          "output_type": "stream",
          "name": "stdout",
          "text": [
            "Mounted at /content/drive\n"
          ]
        }
      ]
    },
    {
      "cell_type": "code",
      "source": [
        "!cp -r \"/content/mymodel.h5\" \"/content/drive/My Drive/Latestmodel.h5\""
      ],
      "metadata": {
        "id": "MdzDae6Tn6Mt"
      },
      "execution_count": null,
      "outputs": []
    },
    {
      "cell_type": "code",
      "source": [
        "model = tf.keras.models.load_model('mymodel.h5')\n"
      ],
      "metadata": {
        "id": "36l69a1GG2_Y"
      },
      "execution_count": null,
      "outputs": []
    },
    {
      "cell_type": "code",
      "source": [
        "import numpy as np\n",
        "from tensorflow.keras.preprocessing import image"
      ],
      "metadata": {
        "id": "rUAJv3b7N2ic"
      },
      "execution_count": null,
      "outputs": []
    },
    {
      "cell_type": "code",
      "source": [
        "path = 'download1.jpg'\n",
        "img = image.load_img(path, target_size=(128, 128))\n",
        "x = image.img_to_array(img)\n",
        "x = np.expand_dims(x, axis=0)\n",
        "\n",
        "images = np.vstack([x])\n",
        "classes = model.predict(images)\n",
        "print(classes[0][0])\n",
        "if classes[0]<0.5:\n",
        "    print(\"Given image is bad\")\n",
        "else:\n",
        "    print(\"Given image is good\")"
      ],
      "metadata": {
        "colab": {
          "base_uri": "https://localhost:8080/"
        },
        "id": "MHSr6K5tN9Vh",
        "outputId": "63c590c1-55d6-403d-8d51-703e3452dc6a"
      },
      "execution_count": null,
      "outputs": [
        {
          "output_type": "stream",
          "name": "stdout",
          "text": [
            "1/1 [==============================] - 0s 79ms/step\n",
            "0.0\n",
            "Given image is bad\n"
          ]
        }
      ]
    },
    {
      "cell_type": "code",
      "source": [
        "import os\n",
        "import numpy as np\n",
        "import tensorflow as tf\n",
        "from tensorflow.keras.preprocessing import image\n",
        "\n",
        "# Load your pre-trained model\n",
        "model = tf.keras.models.load_model('mymodel.h5')\n",
        "\n",
        "# Define the directory path\n",
        "image_directory = 'shiba'  # Replace with the actual path to your image directory\n",
        "\n",
        "# Iterate through the image files in the directory\n",
        "for filename in os.listdir(image_directory):\n",
        "    if filename.endswith('.jpg') or filename.endswith('.jpeg') or filename.endswith('.png'):\n",
        "        # Construct the full path to the image\n",
        "        image_path = os.path.join(image_directory, filename)\n",
        "\n",
        "        # Load and preprocess the image\n",
        "        img = image.load_img(image_path, target_size=(128, 128))\n",
        "        x = image.img_to_array(img)\n",
        "        x = np.expand_dims(x, axis=0)\n",
        "\n",
        "        # Make predictions\n",
        "        classes = model.predict(x)\n",
        "        probability = classes[0][0]\n",
        "\n",
        "        if probability < 0.5:\n",
        "            print(f\"Image {filename} - Given image is bad\")\n",
        "        else:\n",
        "            print(f\"Image {filename} - Given image is good\")\n"
      ],
      "metadata": {
        "colab": {
          "base_uri": "https://localhost:8080/"
        },
        "id": "4HhSskcsRgeG",
        "outputId": "2f8741f4-b8fe-4d54-a055-302cdd99b72b"
      },
      "execution_count": null,
      "outputs": [
        {
          "output_type": "stream",
          "name": "stdout",
          "text": [
            "WARNING: AutoGraph could not transform <function Model.make_predict_function.<locals>.predict_function at 0x7cf199fc57e0> and will run it as-is.\n",
            "Please report this to the TensorFlow team. When filing the bug, set the verbosity to 10 (on Linux, `export AUTOGRAPH_VERBOSITY=10`) and attach the full output.\n",
            "Cause: closure mismatch, requested ('self', 'step_function'), but source function had ()\n",
            "To silence this warning, decorate the function with @tf.autograph.experimental.do_not_convert\n",
            "1/1 [==============================] - 0s 76ms/step\n",
            "Image 5.jpg - Given image is good\n",
            "1/1 [==============================] - 0s 17ms/step\n",
            "Image 1.jpg - Given image is good\n",
            "1/1 [==============================] - 0s 17ms/step\n",
            "Image 6.jpg - Given image is bad\n",
            "1/1 [==============================] - 0s 20ms/step\n",
            "Image 3.jpg - Given image is good\n",
            "1/1 [==============================] - 0s 19ms/step\n",
            "Image 4.jpg - Given image is bad\n",
            "1/1 [==============================] - 0s 18ms/step\n",
            "Image 2.jpg - Given image is good\n"
          ]
        }
      ]
    }
  ],
  "metadata": {
    "kernelspec": {
      "display_name": "Python 3",
      "name": "python3"
    },
    "language_info": {
      "codemirror_mode": {
        "name": "ipython",
        "version": 3
      },
      "file_extension": ".py",
      "mimetype": "text/x-python",
      "name": "python",
      "nbconvert_exporter": "python",
      "pygments_lexer": "ipython3",
      "version": "3.7.1"
    },
    "colab": {
      "provenance": [],
      "gpuType": "T4"
    },
    "accelerator": "GPU"
  },
  "nbformat": 4,
  "nbformat_minor": 0
}